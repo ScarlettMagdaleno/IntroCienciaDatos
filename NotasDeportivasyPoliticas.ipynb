{
 "cells": [
  {
   "cell_type": "markdown",
   "id": "3d98e2db-8519-4cd8-9f75-9e65331585a1",
   "metadata": {},
   "source": [
    "# **Representación basada en Bag of Words** "
   ]
  },
  {
   "cell_type": "markdown",
   "id": "7c2bea34-06dd-4b57-90da-dce66eeedabf",
   "metadata": {},
   "source": [
    "Instalar librerías a través de la terminal.\n"
   ]
  },
  {
   "cell_type": "code",
   "execution_count": 1,
   "id": "582ef0ff-9295-4337-89ee-764fe81c0f5d",
   "metadata": {},
   "outputs": [],
   "source": [
    "#pip install spacy\n",
    "#pip install nltk\n",
    "#pip install sklearn\n",
    "#sudo python3 -m spacy download es  <--- Mac\n",
    "#spacy download es                  <--- Windows 10"
   ]
  },
  {
   "cell_type": "markdown",
   "id": "476a1956-9666-48c5-98a5-2cbb514c22ef",
   "metadata": {},
   "source": [
    "Importar funciones necesarias."
   ]
  },
  {
   "cell_type": "code",
   "execution_count": 2,
   "id": "1ce4c060-b967-4856-b7cf-b6ea32740ef9",
   "metadata": {
    "tags": []
   },
   "outputs": [],
   "source": [
    "import pandas as pd\n",
    "import re\n",
    "import spacy as spc\n",
    "import nltk\n",
    "from nltk.corpus import stopwords\n",
    "from nltk.tokenize import word_tokenize\n",
    "from sklearn.feature_extraction.text import CountVectorizer\n",
    "\n",
    "# Mostrar dataframes \n",
    "from IPython.display import display, HTML"
   ]
  },
  {
   "cell_type": "markdown",
   "id": "b04d0bc4-caab-43b2-b791-7a903f2a67f6",
   "metadata": {},
   "source": [
    "## **Datos de entrada**\n",
    "\n",
    "Generamos dos instancias, la primera obtenida de una [noticia deportiva](https://cnnespanol.cnn.com/2022/11/04/pique-retirada-barcelona-orix/) y la otra de una [noticia política](https://www.jornada.com.mx/notas/2023/09/16/politica/amlo-agradece-contribucion-fundamental-de-semar-y-sedena/)."
   ]
  },
  {
   "cell_type": "code",
   "execution_count": 3,
   "id": "85fdba87-e1aa-482e-9146-41f4649a06db",
   "metadata": {
    "tags": []
   },
   "outputs": [
    {
     "name": "stdout",
     "output_type": "stream",
     "text": [
      "Oración 1 (Nota deportiva):\n",
      " El defensa del Barcelona Gerard Piqué puso fin a su brillante carrera el jueves, al anunciar que se retirará del fútbol cuando LaLiga se interrumpa por el Mundial este mes.\n",
      "\n",
      "Oración 2 (Nota política):\n",
      " A través de sus redes sociales, el presidente Andrés Manuel López Obrador sostuvo que ' es permanente nuestro reconocimiento a las secretarías de la a Defensa Nacional y de Marina...'.\n"
     ]
    }
   ],
   "source": [
    "oracion1 = \"El defensa del Barcelona Gerard Piqué puso fin a su brillante carrera el jueves, al anunciar que se retirará del fútbol cuando LaLiga se interrumpa por el Mundial este mes.\"\n",
    "oracion2 = \"A través de sus redes sociales, el presidente Andrés Manuel López Obrador sostuvo que \\' es permanente nuestro reconocimiento a las secretarías de la a Defensa Nacional y de Marina...\\'.\"\n",
    "\n",
    "print('Oración 1 (Nota deportiva):\\n', oracion1)\n",
    "print('\\nOración 2 (Nota política):\\n', oracion2)"
   ]
  },
  {
   "cell_type": "markdown",
   "id": "5ace6213-b9e5-4dde-80f8-cffede8fc3b7",
   "metadata": {},
   "source": [
    "## **Procesamiento**"
   ]
  },
  {
   "cell_type": "markdown",
   "id": "72533121-a276-4248-9cd1-71bfdc4ce66f",
   "metadata": {},
   "source": [
    "### Limpieza de datos\n",
    "\n",
    "Definimos una función para limpiar los datos de una oración:"
   ]
  },
  {
   "cell_type": "code",
   "execution_count": 4,
   "id": "5183b076-9d06-4189-9d3a-60b4a6f9a009",
   "metadata": {
    "tags": []
   },
   "outputs": [],
   "source": [
    "def limpia_oracion(oracion):\n",
    "    oracion = oracion.lower()\n",
    "    oracion = re.sub(r\"@\\S+\", \"\", oracion)  # Eliminar menciones a usuarios\n",
    "    oracion = re.sub(\"http[s]?\\://\\S+\", \"\", oracion)  # Eliminar enlaces\n",
    "    oracion = re.sub(r\"#\\S+\", \"\", oracion)  # Eliminar hashtags (No siempre es lo mejor)\n",
    "    oracion = re.sub(r\"[0-9]\", \"\", oracion)  # Eliminar números\n",
    "    oracion = re.sub(r\"(\\(.*\\))|(\\[.*\\])\", \"\", oracion)  # Eliminar paréntesis y corchetes\n",
    "    oracion = re.sub(r\"\\n\", \"\", oracion)  # Eliminar caracteres de nueva línea\n",
    "    oracion = re.sub(r\"(http[s]?\\://\\S+)|([\\[\\(].*[\\)\\]])|([#@]\\S+)|\\n\", \"\", oracion)  # Eliminar varios patrones\n",
    "    oracion = re.sub(r\"(\\.)|(,)\", \"\", oracion)  # Eliminar puntos y comas\n",
    "    oracion = re.sub(r\"[¡!]\", \"\", oracion)  # Eliminar signos de admiración \n",
    "    oracion = re.sub(r\"[¿?]\", \"\", oracion)  # Eliminar signos de exclamación\n",
    "    print(oracion)"
   ]
  },
  {
   "cell_type": "markdown",
   "id": "2d69d157-417e-4a0e-847e-a3b1bf7c0bd1",
   "metadata": {
    "tags": []
   },
   "source": [
    "Limpiamos la oración 1 y 2 respectivamente."
   ]
  },
  {
   "cell_type": "code",
   "execution_count": 5,
   "id": "bfb6623a-0a10-4d83-b079-28abf8f3fe4c",
   "metadata": {
    "tags": []
   },
   "outputs": [
    {
     "name": "stdout",
     "output_type": "stream",
     "text": [
      "el defensa del barcelona gerard piqué puso fin a su brillante carrera el jueves al anunciar que se retirará del fútbol cuando laliga se interrumpa por el mundial este mes\n"
     ]
    },
    {
     "data": {
      "text/plain": [
       "None"
      ]
     },
     "metadata": {},
     "output_type": "display_data"
    }
   ],
   "source": [
    "display(limpia_oracion(oracion1))"
   ]
  },
  {
   "cell_type": "code",
   "execution_count": 6,
   "id": "c2b32177-7a69-4dae-a9b3-d683f5ed9334",
   "metadata": {
    "tags": []
   },
   "outputs": [
    {
     "name": "stdout",
     "output_type": "stream",
     "text": [
      "a través de sus redes sociales el presidente andrés manuel lópez obrador sostuvo que ' es permanente nuestro reconocimiento a las secretarías de la a defensa nacional y de marina'\n"
     ]
    },
    {
     "data": {
      "text/plain": [
       "None"
      ]
     },
     "metadata": {},
     "output_type": "display_data"
    }
   ],
   "source": [
    "display(limpia_oracion(oracion2))"
   ]
  },
  {
   "cell_type": "markdown",
   "id": "0da20449-7603-4d01-9866-6be0fbf0063c",
   "metadata": {},
   "source": [
    "### Tokenización"
   ]
  },
  {
   "cell_type": "markdown",
   "id": "afaf10d4-5096-446b-8a6c-f7f08ad9309b",
   "metadata": {
    "tags": []
   },
   "source": [
    "Tokenización oración 1:"
   ]
  },
  {
   "cell_type": "code",
   "execution_count": 7,
   "id": "86a798d9-a52d-41bf-80b6-4d36808cee15",
   "metadata": {
    "tags": []
   },
   "outputs": [
    {
     "name": "stdout",
     "output_type": "stream",
     "text": [
      "['El', 'defensa', 'del', 'Barcelona', 'Gerard', 'Piqué', 'puso', 'fin', 'a', 'su', 'brillante', 'carrera', 'el', 'jueves', ',', 'al', 'anunciar', 'que', 'se', 'retirará', 'del', 'fútbol', 'cuando', 'LaLiga', 'se', 'interrumpa', 'por', 'el', 'Mundial', 'este', 'mes', '.']\n"
     ]
    }
   ],
   "source": [
    "tokens1 = word_tokenize(oracion1)\n",
    "print(tokens1)"
   ]
  },
  {
   "cell_type": "markdown",
   "id": "d2ab3d69-909a-4880-8fc0-a9362c5fd7d6",
   "metadata": {},
   "source": [
    "Tokenización oración 2:"
   ]
  },
  {
   "cell_type": "code",
   "execution_count": 8,
   "id": "4060d859-8562-4325-b24b-d607761952bf",
   "metadata": {
    "tags": []
   },
   "outputs": [
    {
     "name": "stdout",
     "output_type": "stream",
     "text": [
      "['A', 'través', 'de', 'sus', 'redes', 'sociales', ',', 'el', 'presidente', 'Andrés', 'Manuel', 'López', 'Obrador', 'sostuvo', 'que', \"'\", 'es', 'permanente', 'nuestro', 'reconocimiento', 'a', 'las', 'secretarías', 'de', 'la', 'a', 'Defensa', 'Nacional', 'y', 'de', 'Marina', '...', \"'\", '.']\n"
     ]
    }
   ],
   "source": [
    "tokens2 = word_tokenize(oracion2)\n",
    "print(tokens2)"
   ]
  },
  {
   "cell_type": "markdown",
   "id": "ba33108d-855f-4898-a16d-82d8fd19ee4f",
   "metadata": {},
   "source": [
    "### Stopwords"
   ]
  },
  {
   "cell_type": "markdown",
   "id": "90421650-2c12-41c1-abec-04ccb43fbd1c",
   "metadata": {},
   "source": [
    "Definimos una función para eliminar _stopwords_."
   ]
  },
  {
   "cell_type": "code",
   "execution_count": 9,
   "id": "683c5e60-314d-4d5a-9668-23f96516debe",
   "metadata": {},
   "outputs": [],
   "source": [
    "def delete_stopword(tokens):\n",
    "    spanish_stopwords = stopwords.words('spanish')\n",
    "    palabras_filtradas = [palabra for palabra in tokens if palabra not in spanish_stopwords]\n",
    "    return palabras_filtradas"
   ]
  },
  {
   "cell_type": "markdown",
   "id": "dc7847e8-bc2f-4307-89d1-6546a1ed94fe",
   "metadata": {},
   "source": [
    "Eliminamos las _stopwords_ para la oración 1 y 2 respectivamente."
   ]
  },
  {
   "cell_type": "code",
   "execution_count": 10,
   "id": "7f5418bf-5169-45ba-ae03-c3c291df0082",
   "metadata": {},
   "outputs": [
    {
     "name": "stdout",
     "output_type": "stream",
     "text": [
      "['El', 'defensa', 'Barcelona', 'Gerard', 'Piqué', 'puso', 'fin', 'brillante', 'carrera', 'jueves', ',', 'anunciar', 'retirará', 'fútbol', 'LaLiga', 'interrumpa', 'Mundial', 'mes', '.']\n"
     ]
    }
   ],
   "source": [
    "palabras_filtradas1 = delete_stopword(tokens1)\n",
    "print(palabras_filtradas1)"
   ]
  },
  {
   "cell_type": "code",
   "execution_count": 11,
   "id": "dee6eb11-bc2d-4c96-9edf-f535c0010ee0",
   "metadata": {},
   "outputs": [
    {
     "name": "stdout",
     "output_type": "stream",
     "text": [
      "['A', 'través', 'redes', 'sociales', ',', 'presidente', 'Andrés', 'Manuel', 'López', 'Obrador', 'sostuvo', \"'\", 'permanente', 'reconocimiento', 'secretarías', 'Defensa', 'Nacional', 'Marina', '...', \"'\", '.']\n"
     ]
    }
   ],
   "source": [
    "palabras_filtradas2 = delete_stopword(tokens2)\n",
    "print(palabras_filtradas2)"
   ]
  },
  {
   "cell_type": "markdown",
   "id": "bfd83dce-3bb0-4258-a752-3297c1fffa55",
   "metadata": {},
   "source": [
    "### Lematización"
   ]
  },
  {
   "cell_type": "markdown",
   "id": "aed4ccab-12ac-49f4-a060-d34d9f3b8420",
   "metadata": {
    "tags": []
   },
   "source": [
    "Definimos una función para lematizar una oración dada."
   ]
  },
  {
   "cell_type": "code",
   "execution_count": 12,
   "id": "d7e84f89-0d99-4bd8-a507-98812c0aab12",
   "metadata": {},
   "outputs": [],
   "source": [
    "def lematiza_oracion(palabras_filtradas):\n",
    "    nlp = spc.load(\"es_core_news_sm\")\n",
    "    lema = nlp(\" \".join(palabras_filtradas))\n",
    "    oracion_lematizada = \" \".join([token.lemma_ for token in lema])\n",
    "    return oracion_lematizada"
   ]
  },
  {
   "cell_type": "markdown",
   "id": "2cdf730e-02ba-4250-85bf-534262741b42",
   "metadata": {},
   "source": [
    "Lematización de la oración 1."
   ]
  },
  {
   "cell_type": "code",
   "execution_count": 13,
   "id": "8a78c030-5094-48a0-aa9c-dc63ff9bfddb",
   "metadata": {
    "tags": []
   },
   "outputs": [
    {
     "name": "stdout",
     "output_type": "stream",
     "text": [
      "el defensa Barcelona Gerard Piqué poner fin brillante carrera jueves , anunciar retirar fútbol LaLiga interrumpa Mundial mes .\n"
     ]
    }
   ],
   "source": [
    "oracion_lematizada1 = lematiza_oracion(palabras_filtradas1)\n",
    "print(oracion_lematizada1)"
   ]
  },
  {
   "cell_type": "markdown",
   "id": "1bfff9dd-a543-4267-9621-7eee300a43c1",
   "metadata": {
    "tags": []
   },
   "source": [
    "Lematización de la oración 2."
   ]
  },
  {
   "cell_type": "code",
   "execution_count": 14,
   "id": "d85287bf-b5c9-465b-9986-b3cb31178eba",
   "metadata": {
    "tags": []
   },
   "outputs": [
    {
     "name": "stdout",
     "output_type": "stream",
     "text": [
      "a través red social , presidente Andrés Manuel López Obrador sostener ' permanente reconocimiento secretaría Defensa Nacional Marina ... ' .\n"
     ]
    }
   ],
   "source": [
    "oracion_lematizada2 = lematiza_oracion(palabras_filtradas2)\n",
    "print(oracion_lematizada2)"
   ]
  },
  {
   "cell_type": "markdown",
   "id": "115d08ba-3bff-4982-8a0d-53e1b16209f4",
   "metadata": {},
   "source": [
    "## **Bag of Words**"
   ]
  },
  {
   "cell_type": "markdown",
   "id": "8e0ceb54-6910-47e6-a4ba-6e4f8815eae9",
   "metadata": {},
   "source": [
    "Definimos una función para obtener los vectores _Bag of Words_ y el vocabulario de la oración lematizada."
   ]
  },
  {
   "cell_type": "code",
   "execution_count": 15,
   "id": "c3c2843d-b2f3-462f-8e38-568691f8bb68",
   "metadata": {
    "tags": []
   },
   "outputs": [],
   "source": [
    "def get_bow(oracion_lematizada):\n",
    "    vectorizador = CountVectorizer()\n",
    "    vectores = vectorizador.fit_transform([oracion_lematizada])\n",
    "    vocabulario = vectorizador.get_feature_names_out()\n",
    "    return vectores, vocabulario"
   ]
  },
  {
   "cell_type": "markdown",
   "id": "82c28d91-c233-442a-a73b-99e763db4c23",
   "metadata": {},
   "source": [
    "Utilizamos la función anterior con las oraciones 1 y 2."
   ]
  },
  {
   "cell_type": "code",
   "execution_count": 16,
   "id": "9847417a-dce5-4e73-b2a6-8dabeb39a040",
   "metadata": {
    "tags": []
   },
   "outputs": [],
   "source": [
    "#Oración 1\n",
    "vectores1, vocabulario1 = get_bow(oracion_lematizada1)\n",
    "\n",
    "#Oración 2\n",
    "vectores2, vocabulario2 = get_bow(oracion_lematizada2)"
   ]
  },
  {
   "cell_type": "markdown",
   "id": "62c90384-68b0-460a-8cd3-82becb828de8",
   "metadata": {},
   "source": [
    "### Resultados"
   ]
  },
  {
   "cell_type": "markdown",
   "id": "ac1df88b-bdf3-4c92-8bb8-34f3810dac6b",
   "metadata": {},
   "source": [
    "Oración 1."
   ]
  },
  {
   "cell_type": "code",
   "execution_count": 17,
   "id": "5f134515-312f-4d70-8474-a3d81ab6a1d5",
   "metadata": {
    "tags": []
   },
   "outputs": [
    {
     "name": "stdout",
     "output_type": "stream",
     "text": [
      "Oración de entrada: El defensa del Barcelona Gerard Piqué puso fin a su brillante carrera el jueves, al anunciar que se retirará del fútbol cuando LaLiga se interrumpa por el Mundial este mes.\n",
      "\n",
      "Oración lematizada: el defensa Barcelona Gerard Piqué poner fin brillante carrera jueves , anunciar retirar fútbol LaLiga interrumpa Mundial mes .\n",
      "\n",
      "Vectores Bag of Words: [[1 1 1 1 1 1 1 1 1 1 1 1 1 1 1 1 1]]\n",
      "\n",
      "Vocabulario: ['anunciar' 'barcelona' 'brillante' 'carrera' 'defensa' 'el' 'fin'\n",
      " 'fútbol' 'gerard' 'interrumpa' 'jueves' 'laliga' 'mes' 'mundial' 'piqué'\n",
      " 'poner' 'retirar']\n"
     ]
    }
   ],
   "source": [
    "print(\"Oración de entrada:\", oracion1)\n",
    "print(\"\\nOración lematizada:\", oracion_lematizada1)\n",
    "print(\"\\nVectores Bag of Words:\", vectores1.toarray())\n",
    "print(\"\\nVocabulario:\", vocabulario1)"
   ]
  },
  {
   "cell_type": "markdown",
   "id": "a1687195-cb4d-457f-96ce-3bbe58844472",
   "metadata": {},
   "source": [
    "Oración 2."
   ]
  },
  {
   "cell_type": "code",
   "execution_count": 18,
   "id": "c71ef6ab-76b1-4e20-adbb-5dd1c25e1348",
   "metadata": {
    "tags": []
   },
   "outputs": [
    {
     "name": "stdout",
     "output_type": "stream",
     "text": [
      "Oración de entrada: A través de sus redes sociales, el presidente Andrés Manuel López Obrador sostuvo que ' es permanente nuestro reconocimiento a las secretarías de la a Defensa Nacional y de Marina...'.\n",
      "\n",
      "Oración lematizada: a través red social , presidente Andrés Manuel López Obrador sostener ' permanente reconocimiento secretaría Defensa Nacional Marina ... ' .\n",
      "\n",
      "Vectores Bag of Words: [[1 1 1 1 1 1 1 1 1 1 1 1 1 1 1]]\n",
      "\n",
      "Vocabulario: ['andrés' 'defensa' 'lópez' 'manuel' 'marina' 'nacional' 'obrador'\n",
      " 'permanente' 'presidente' 'reconocimiento' 'red' 'secretaría' 'social'\n",
      " 'sostener' 'través']\n"
     ]
    }
   ],
   "source": [
    "print(\"Oración de entrada:\", oracion2)\n",
    "print(\"\\nOración lematizada:\", oracion_lematizada2)\n",
    "print(\"\\nVectores Bag of Words:\", vectores2.toarray())\n",
    "print(\"\\nVocabulario:\", vocabulario2)"
   ]
  },
  {
   "cell_type": "markdown",
   "id": "248b9bcd-1d1c-443b-b06a-8551bdee0af7",
   "metadata": {},
   "source": [
    "### Construir Dataframe"
   ]
  },
  {
   "cell_type": "markdown",
   "id": "5ce7572a-590a-428d-9c3c-886e2bebc7cd",
   "metadata": {},
   "source": [
    "Empezamos por construir por separado los dataframes para la oración 1 y 2."
   ]
  },
  {
   "cell_type": "code",
   "execution_count": 19,
   "id": "0c552894-bc08-4397-8982-3cb8df82052d",
   "metadata": {
    "tags": []
   },
   "outputs": [
    {
     "data": {
      "text/html": [
       "<div>\n",
       "<style scoped>\n",
       "    .dataframe tbody tr th:only-of-type {\n",
       "        vertical-align: middle;\n",
       "    }\n",
       "\n",
       "    .dataframe tbody tr th {\n",
       "        vertical-align: top;\n",
       "    }\n",
       "\n",
       "    .dataframe thead th {\n",
       "        text-align: right;\n",
       "    }\n",
       "</style>\n",
       "<table border=\"1\" class=\"dataframe\">\n",
       "  <thead>\n",
       "    <tr style=\"text-align: right;\">\n",
       "      <th></th>\n",
       "      <th>anunciar</th>\n",
       "      <th>barcelona</th>\n",
       "      <th>brillante</th>\n",
       "      <th>carrera</th>\n",
       "      <th>defensa</th>\n",
       "      <th>el</th>\n",
       "      <th>fin</th>\n",
       "      <th>fútbol</th>\n",
       "      <th>gerard</th>\n",
       "      <th>interrumpa</th>\n",
       "    </tr>\n",
       "  </thead>\n",
       "  <tbody>\n",
       "    <tr>\n",
       "      <th>0</th>\n",
       "      <td>1</td>\n",
       "      <td>1</td>\n",
       "      <td>1</td>\n",
       "      <td>1</td>\n",
       "      <td>1</td>\n",
       "      <td>1</td>\n",
       "      <td>1</td>\n",
       "      <td>1</td>\n",
       "      <td>1</td>\n",
       "      <td>1</td>\n",
       "    </tr>\n",
       "  </tbody>\n",
       "</table>\n",
       "</div>"
      ],
      "text/plain": [
       "   anunciar  barcelona  brillante  carrera  defensa  el  fin  fútbol  gerard  \\\n",
       "0         1          1          1        1        1   1    1       1       1   \n",
       "\n",
       "   interrumpa  \n",
       "0           1  "
      ]
     },
     "metadata": {},
     "output_type": "display_data"
    }
   ],
   "source": [
    "#Oración 1\n",
    "df1_bw = pd.DataFrame.sparse.from_spmatrix(vectores1,columns = vocabulario1)\n",
    "display(df1_bw.iloc[:,:10])  # Muestra las primeras 10 columnas del dataframe"
   ]
  },
  {
   "cell_type": "code",
   "execution_count": 20,
   "id": "f0006f11-544e-461d-8898-5106b684f46a",
   "metadata": {
    "tags": []
   },
   "outputs": [
    {
     "data": {
      "text/html": [
       "<div>\n",
       "<style scoped>\n",
       "    .dataframe tbody tr th:only-of-type {\n",
       "        vertical-align: middle;\n",
       "    }\n",
       "\n",
       "    .dataframe tbody tr th {\n",
       "        vertical-align: top;\n",
       "    }\n",
       "\n",
       "    .dataframe thead th {\n",
       "        text-align: right;\n",
       "    }\n",
       "</style>\n",
       "<table border=\"1\" class=\"dataframe\">\n",
       "  <thead>\n",
       "    <tr style=\"text-align: right;\">\n",
       "      <th></th>\n",
       "      <th>andrés</th>\n",
       "      <th>defensa</th>\n",
       "      <th>lópez</th>\n",
       "      <th>manuel</th>\n",
       "      <th>marina</th>\n",
       "      <th>nacional</th>\n",
       "      <th>obrador</th>\n",
       "      <th>permanente</th>\n",
       "      <th>presidente</th>\n",
       "      <th>reconocimiento</th>\n",
       "    </tr>\n",
       "  </thead>\n",
       "  <tbody>\n",
       "    <tr>\n",
       "      <th>0</th>\n",
       "      <td>1</td>\n",
       "      <td>1</td>\n",
       "      <td>1</td>\n",
       "      <td>1</td>\n",
       "      <td>1</td>\n",
       "      <td>1</td>\n",
       "      <td>1</td>\n",
       "      <td>1</td>\n",
       "      <td>1</td>\n",
       "      <td>1</td>\n",
       "    </tr>\n",
       "  </tbody>\n",
       "</table>\n",
       "</div>"
      ],
      "text/plain": [
       "   andrés  defensa  lópez  manuel  marina  nacional  obrador  permanente  \\\n",
       "0       1        1      1       1       1         1        1           1   \n",
       "\n",
       "   presidente  reconocimiento  \n",
       "0           1               1  "
      ]
     },
     "metadata": {},
     "output_type": "display_data"
    }
   ],
   "source": [
    "#Oración 2\n",
    "df2_bw = pd.DataFrame.sparse.from_spmatrix(vectores2,columns = vocabulario2)\n",
    "display(df2_bw.iloc[:,:10])  # Muestra las primeras 10 columnas del dataframe"
   ]
  },
  {
   "cell_type": "markdown",
   "id": "ff638635-f0d1-4a9e-8509-430cdee4e4d7",
   "metadata": {},
   "source": [
    "Agregamos una nueva columna a cada dataframe para clasificar la oración de acuerdo al tipo de noticia que corresponde."
   ]
  },
  {
   "cell_type": "code",
   "execution_count": 21,
   "id": "63f5912f-e37f-4a3c-ae3f-aa69ac9cb320",
   "metadata": {
    "tags": []
   },
   "outputs": [
    {
     "data": {
      "text/html": [
       "<div>\n",
       "<style scoped>\n",
       "    .dataframe tbody tr th:only-of-type {\n",
       "        vertical-align: middle;\n",
       "    }\n",
       "\n",
       "    .dataframe tbody tr th {\n",
       "        vertical-align: top;\n",
       "    }\n",
       "\n",
       "    .dataframe thead th {\n",
       "        text-align: right;\n",
       "    }\n",
       "</style>\n",
       "<table border=\"1\" class=\"dataframe\">\n",
       "  <thead>\n",
       "    <tr style=\"text-align: right;\">\n",
       "      <th></th>\n",
       "      <th>gerard</th>\n",
       "      <th>interrumpa</th>\n",
       "      <th>jueves</th>\n",
       "      <th>laliga</th>\n",
       "      <th>mes</th>\n",
       "      <th>mundial</th>\n",
       "      <th>piqué</th>\n",
       "      <th>poner</th>\n",
       "      <th>retirar</th>\n",
       "      <th>Clase</th>\n",
       "    </tr>\n",
       "  </thead>\n",
       "  <tbody>\n",
       "    <tr>\n",
       "      <th>0</th>\n",
       "      <td>1</td>\n",
       "      <td>1</td>\n",
       "      <td>1</td>\n",
       "      <td>1</td>\n",
       "      <td>1</td>\n",
       "      <td>1</td>\n",
       "      <td>1</td>\n",
       "      <td>1</td>\n",
       "      <td>1</td>\n",
       "      <td>deporte</td>\n",
       "    </tr>\n",
       "  </tbody>\n",
       "</table>\n",
       "</div>"
      ],
      "text/plain": [
       "   gerard  interrumpa  jueves  laliga  mes  mundial  piqué  poner  retirar  \\\n",
       "0       1           1       1       1    1        1      1      1        1   \n",
       "\n",
       "     Clase  \n",
       "0  deporte  "
      ]
     },
     "metadata": {},
     "output_type": "display_data"
    }
   ],
   "source": [
    "#Oración 1\n",
    "df1_bw['Clase'] = 'deporte'\n",
    "display(df1_bw.iloc[:, -10:])   # Muestra las últimas 10 columnas del dataframe"
   ]
  },
  {
   "cell_type": "code",
   "execution_count": 22,
   "id": "18318cc8-7e16-43e0-85bc-21ee967bcdc3",
   "metadata": {
    "tags": []
   },
   "outputs": [
    {
     "data": {
      "text/html": [
       "<div>\n",
       "<style scoped>\n",
       "    .dataframe tbody tr th:only-of-type {\n",
       "        vertical-align: middle;\n",
       "    }\n",
       "\n",
       "    .dataframe tbody tr th {\n",
       "        vertical-align: top;\n",
       "    }\n",
       "\n",
       "    .dataframe thead th {\n",
       "        text-align: right;\n",
       "    }\n",
       "</style>\n",
       "<table border=\"1\" class=\"dataframe\">\n",
       "  <thead>\n",
       "    <tr style=\"text-align: right;\">\n",
       "      <th></th>\n",
       "      <th>obrador</th>\n",
       "      <th>permanente</th>\n",
       "      <th>presidente</th>\n",
       "      <th>reconocimiento</th>\n",
       "      <th>red</th>\n",
       "      <th>secretaría</th>\n",
       "      <th>social</th>\n",
       "      <th>sostener</th>\n",
       "      <th>través</th>\n",
       "      <th>Clase</th>\n",
       "    </tr>\n",
       "  </thead>\n",
       "  <tbody>\n",
       "    <tr>\n",
       "      <th>0</th>\n",
       "      <td>1</td>\n",
       "      <td>1</td>\n",
       "      <td>1</td>\n",
       "      <td>1</td>\n",
       "      <td>1</td>\n",
       "      <td>1</td>\n",
       "      <td>1</td>\n",
       "      <td>1</td>\n",
       "      <td>1</td>\n",
       "      <td>política</td>\n",
       "    </tr>\n",
       "  </tbody>\n",
       "</table>\n",
       "</div>"
      ],
      "text/plain": [
       "   obrador  permanente  presidente  reconocimiento  red  secretaría  social  \\\n",
       "0        1           1           1               1    1           1       1   \n",
       "\n",
       "   sostener  través     Clase  \n",
       "0         1       1  política  "
      ]
     },
     "metadata": {},
     "output_type": "display_data"
    }
   ],
   "source": [
    "#Oración 2\n",
    "df2_bw['Clase'] = 'política'\n",
    "display(df2_bw.iloc[:, -10:])   # Muestra las últimas 10 columnas del dataframe"
   ]
  },
  {
   "cell_type": "markdown",
   "id": "1998dae7-68b1-4b2a-99d8-20d589bddb7f",
   "metadata": {},
   "source": [
    "Unimos los dataframes _df1_bw_ y _df2_bw_ en el nuevo dataframe _df_bw_."
   ]
  },
  {
   "cell_type": "code",
   "execution_count": 23,
   "id": "a2c4af14-c659-43ea-aefd-2496402df1e0",
   "metadata": {
    "tags": []
   },
   "outputs": [
    {
     "data": {
      "text/html": [
       "<div>\n",
       "<style scoped>\n",
       "    .dataframe tbody tr th:only-of-type {\n",
       "        vertical-align: middle;\n",
       "    }\n",
       "\n",
       "    .dataframe tbody tr th {\n",
       "        vertical-align: top;\n",
       "    }\n",
       "\n",
       "    .dataframe thead th {\n",
       "        text-align: right;\n",
       "    }\n",
       "</style>\n",
       "<table border=\"1\" class=\"dataframe\">\n",
       "  <thead>\n",
       "    <tr style=\"text-align: right;\">\n",
       "      <th></th>\n",
       "      <th>nacional</th>\n",
       "      <th>obrador</th>\n",
       "      <th>permanente</th>\n",
       "      <th>presidente</th>\n",
       "      <th>reconocimiento</th>\n",
       "      <th>red</th>\n",
       "      <th>secretaría</th>\n",
       "      <th>social</th>\n",
       "      <th>sostener</th>\n",
       "      <th>través</th>\n",
       "    </tr>\n",
       "  </thead>\n",
       "  <tbody>\n",
       "    <tr>\n",
       "      <th>0</th>\n",
       "      <td>NaN</td>\n",
       "      <td>NaN</td>\n",
       "      <td>NaN</td>\n",
       "      <td>NaN</td>\n",
       "      <td>NaN</td>\n",
       "      <td>NaN</td>\n",
       "      <td>NaN</td>\n",
       "      <td>NaN</td>\n",
       "      <td>NaN</td>\n",
       "      <td>NaN</td>\n",
       "    </tr>\n",
       "    <tr>\n",
       "      <th>1</th>\n",
       "      <td>1.0</td>\n",
       "      <td>1.0</td>\n",
       "      <td>1.0</td>\n",
       "      <td>1.0</td>\n",
       "      <td>1.0</td>\n",
       "      <td>1.0</td>\n",
       "      <td>1.0</td>\n",
       "      <td>1.0</td>\n",
       "      <td>1.0</td>\n",
       "      <td>1.0</td>\n",
       "    </tr>\n",
       "  </tbody>\n",
       "</table>\n",
       "</div>"
      ],
      "text/plain": [
       "   nacional  obrador  permanente  presidente  reconocimiento  red  secretaría  \\\n",
       "0       NaN      NaN         NaN         NaN             NaN  NaN         NaN   \n",
       "1       1.0      1.0         1.0         1.0             1.0  1.0         1.0   \n",
       "\n",
       "   social  sostener  través  \n",
       "0     NaN       NaN     NaN  \n",
       "1     1.0       1.0     1.0  "
      ]
     },
     "metadata": {},
     "output_type": "display_data"
    }
   ],
   "source": [
    "df_bw = pd.merge(df1_bw, df2_bw, on='Clase', how='outer')\n",
    "display(df_bw.iloc[:, -10:])   # Muestra las últimas 10 columnas del dataframe"
   ]
  },
  {
   "cell_type": "markdown",
   "id": "dc4ba306-adcb-4bb9-92bb-50670cc5a806",
   "metadata": {},
   "source": [
    "Cambiamos los valores nulos por 0, ya que esto es equivalente a decir que esa palabra no aparece en la oración dada."
   ]
  },
  {
   "cell_type": "code",
   "execution_count": 24,
   "id": "776d0236-921d-484b-8d22-e4206b07ffc7",
   "metadata": {
    "tags": []
   },
   "outputs": [
    {
     "data": {
      "text/html": [
       "<div>\n",
       "<style scoped>\n",
       "    .dataframe tbody tr th:only-of-type {\n",
       "        vertical-align: middle;\n",
       "    }\n",
       "\n",
       "    .dataframe tbody tr th {\n",
       "        vertical-align: top;\n",
       "    }\n",
       "\n",
       "    .dataframe thead th {\n",
       "        text-align: right;\n",
       "    }\n",
       "</style>\n",
       "<table border=\"1\" class=\"dataframe\">\n",
       "  <thead>\n",
       "    <tr style=\"text-align: right;\">\n",
       "      <th></th>\n",
       "      <th>nacional</th>\n",
       "      <th>obrador</th>\n",
       "      <th>permanente</th>\n",
       "      <th>presidente</th>\n",
       "      <th>reconocimiento</th>\n",
       "      <th>red</th>\n",
       "      <th>secretaría</th>\n",
       "      <th>social</th>\n",
       "      <th>sostener</th>\n",
       "      <th>través</th>\n",
       "    </tr>\n",
       "  </thead>\n",
       "  <tbody>\n",
       "    <tr>\n",
       "      <th>0</th>\n",
       "      <td>0.0</td>\n",
       "      <td>0.0</td>\n",
       "      <td>0.0</td>\n",
       "      <td>0.0</td>\n",
       "      <td>0.0</td>\n",
       "      <td>0.0</td>\n",
       "      <td>0.0</td>\n",
       "      <td>0.0</td>\n",
       "      <td>0.0</td>\n",
       "      <td>0.0</td>\n",
       "    </tr>\n",
       "    <tr>\n",
       "      <th>1</th>\n",
       "      <td>1.0</td>\n",
       "      <td>1.0</td>\n",
       "      <td>1.0</td>\n",
       "      <td>1.0</td>\n",
       "      <td>1.0</td>\n",
       "      <td>1.0</td>\n",
       "      <td>1.0</td>\n",
       "      <td>1.0</td>\n",
       "      <td>1.0</td>\n",
       "      <td>1.0</td>\n",
       "    </tr>\n",
       "  </tbody>\n",
       "</table>\n",
       "</div>"
      ],
      "text/plain": [
       "   nacional  obrador  permanente  presidente  reconocimiento  red  secretaría  \\\n",
       "0       0.0      0.0         0.0         0.0             0.0  0.0         0.0   \n",
       "1       1.0      1.0         1.0         1.0             1.0  1.0         1.0   \n",
       "\n",
       "   social  sostener  través  \n",
       "0     0.0       0.0     0.0  \n",
       "1     1.0       1.0     1.0  "
      ]
     },
     "metadata": {},
     "output_type": "display_data"
    }
   ],
   "source": [
    "df_bw = df_bw.fillna(0)\n",
    "display(df_bw.iloc[:, -10:])   # Muestra las últimas 10 columnas del dataframe"
   ]
  },
  {
   "cell_type": "markdown",
   "id": "8f85068d-1631-4ea6-a0e9-77c7ea4645a0",
   "metadata": {},
   "source": [
    "La función _merge_ de Pandas, por defecto, cuando los dataframes tienen columnas con el mismo nombre (lo cual puede suceder en este caso cuando una palabra aparece en el vocabulario de ambas oraciones) al realizar la operación de \"_merge_\" o mezclado de los dataframes, crea dos columnas con el mismo nombre pero con sufijos '_ _x_' y '_ _y_' respectivamente. \n",
    "\n",
    "Para combinar estas columnas duplicadas, ejecutamos el siguiente código"
   ]
  },
  {
   "cell_type": "code",
   "execution_count": 25,
   "id": "35cf85ad-4a31-46a2-ae9a-37baa0837ed5",
   "metadata": {},
   "outputs": [],
   "source": [
    "# Obtener la lista de columnas duplicadas\n",
    "columnas_duplicadas = [col for col in df_bw.columns if col.endswith(('_x', '_y'))]\n",
    "columnas_duplicadas\n",
    "\n",
    "# Unir las columnas repetidas en una sola columna\n",
    "for col in columnas_duplicadas:\n",
    "    col_original = col.replace('_x', '').replace('_y', '')\n",
    "    df_bw[col_original] = df_bw[col_original + '_x'] + df_bw[col_original + '_y']\n",
    "    \n",
    "# Eliminar las columnas duplicadas \n",
    "df_bw.drop(columnas_duplicadas, axis=1, inplace=True)"
   ]
  },
  {
   "cell_type": "markdown",
   "id": "e9ca3c64-d03f-4e16-8e84-808bd26e11d4",
   "metadata": {},
   "source": [
    "Reorganizamos el dataframe para que la columna 'Clase' quede hasta el final del dataframe"
   ]
  },
  {
   "cell_type": "code",
   "execution_count": 26,
   "id": "7d536ecd-0637-4d12-ae8b-2c56ba8a448e",
   "metadata": {
    "tags": []
   },
   "outputs": [
    {
     "data": {
      "text/html": [
       "<div>\n",
       "<style scoped>\n",
       "    .dataframe tbody tr th:only-of-type {\n",
       "        vertical-align: middle;\n",
       "    }\n",
       "\n",
       "    .dataframe tbody tr th {\n",
       "        vertical-align: top;\n",
       "    }\n",
       "\n",
       "    .dataframe thead th {\n",
       "        text-align: right;\n",
       "    }\n",
       "</style>\n",
       "<table border=\"1\" class=\"dataframe\">\n",
       "  <thead>\n",
       "    <tr style=\"text-align: right;\">\n",
       "      <th></th>\n",
       "      <th>permanente</th>\n",
       "      <th>presidente</th>\n",
       "      <th>reconocimiento</th>\n",
       "      <th>red</th>\n",
       "      <th>secretaría</th>\n",
       "      <th>social</th>\n",
       "      <th>sostener</th>\n",
       "      <th>través</th>\n",
       "      <th>defensa</th>\n",
       "      <th>Clase</th>\n",
       "    </tr>\n",
       "  </thead>\n",
       "  <tbody>\n",
       "    <tr>\n",
       "      <th>0</th>\n",
       "      <td>0.0</td>\n",
       "      <td>0.0</td>\n",
       "      <td>0.0</td>\n",
       "      <td>0.0</td>\n",
       "      <td>0.0</td>\n",
       "      <td>0.0</td>\n",
       "      <td>0.0</td>\n",
       "      <td>0.0</td>\n",
       "      <td>1.0</td>\n",
       "      <td>deporte</td>\n",
       "    </tr>\n",
       "    <tr>\n",
       "      <th>1</th>\n",
       "      <td>1.0</td>\n",
       "      <td>1.0</td>\n",
       "      <td>1.0</td>\n",
       "      <td>1.0</td>\n",
       "      <td>1.0</td>\n",
       "      <td>1.0</td>\n",
       "      <td>1.0</td>\n",
       "      <td>1.0</td>\n",
       "      <td>1.0</td>\n",
       "      <td>política</td>\n",
       "    </tr>\n",
       "  </tbody>\n",
       "</table>\n",
       "</div>"
      ],
      "text/plain": [
       "   permanente  presidente  reconocimiento  red  secretaría  social  sostener  \\\n",
       "0         0.0         0.0             0.0  0.0         0.0     0.0       0.0   \n",
       "1         1.0         1.0             1.0  1.0         1.0     1.0       1.0   \n",
       "\n",
       "   través  defensa     Clase  \n",
       "0     0.0      1.0   deporte  \n",
       "1     1.0      1.0  política  "
      ]
     },
     "metadata": {},
     "output_type": "display_data"
    }
   ],
   "source": [
    "column_order = [col for col in df_bw.columns if col != 'Clase'] + ['Clase']\n",
    "df_bw = df_bw[column_order]\n",
    "\n",
    "display(df_bw.iloc[:, -10:])   # Muestra las últimas 10 columnas del dataframe"
   ]
  },
  {
   "cell_type": "markdown",
   "id": "68ddbf47-6707-4581-b112-e1d8fe9790fd",
   "metadata": {},
   "source": [
    "De esta manera, obtenemos la estructura de datos final, que es una representación basada en el modelo Bag of Words de dos oraciones, con el atributo de clase como su última columna."
   ]
  },
  {
   "cell_type": "markdown",
   "id": "4c8efdf6-624a-40c9-ab72-f7f19800ff78",
   "metadata": {
    "tags": []
   },
   "source": [
    "### **Referencias**\n",
    "\n",
    "1. CNN Español. (2022, noviembre 4). _Gerard Piqué anuncia su retirada del fútbol: hijos, carrera y títulos con el Barcelona, la selección de España y más_. CNN Español. https://cnnespanol.cnn.com/2022/11/04/pique-retirada-barcelona-orix/\n",
    "\n",
    "2. La Jornada. (2023, septiembre 16). _Agradece AMLO “contribución fundamental” de Semar y Sedena en seguridad_. https://www.jornada.com.mx/notas/2023/09/16/politica/amlo-agradece-contribucion-fundamental-de-semar-y-sedena/"
   ]
  }
 ],
 "metadata": {
  "kernelspec": {
   "display_name": "Python 3 (ipykernel)",
   "language": "python",
   "name": "python3"
  },
  "language_info": {
   "codemirror_mode": {
    "name": "ipython",
    "version": 3
   },
   "file_extension": ".py",
   "mimetype": "text/x-python",
   "name": "python",
   "nbconvert_exporter": "python",
   "pygments_lexer": "ipython3",
   "version": "3.11.4"
  }
 },
 "nbformat": 4,
 "nbformat_minor": 5
}
